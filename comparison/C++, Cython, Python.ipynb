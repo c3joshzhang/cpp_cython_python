{
 "cells": [
  {
   "cell_type": "markdown",
   "metadata": {},
   "source": [
    "### Before coverting your to C++:\n",
    "* Optimize algorithm first\n",
    "* If still not fast enough, vectorize your implementation as much as possible\n",
    "* If still not fast enough, consider Numba or Cython\n",
    "* If still not fast enough, or too messy, use C++"
   ]
  },
  {
   "cell_type": "markdown",
   "metadata": {},
   "source": [
    "### Intro\n",
    "Python is a great language for high level programming with its concise sytnax. However, for the algorithm heavy tasks with millions of loops, or for tasks that can be benefited from multithreading, python is generally not the best option. On the other hand, C++ is known for its great efficiency, high flexibility and ease to parallel with the support of openMP, but with sytnax that is much more complex than python. Therefore, implementing algorithm with C++ and provide Python level api seems to be an ideal solution that is both efficient and easy to use. \n",
    "\n",
    "Cython, as a layer between C++ and Python, provides a very clean way to expose C++ object to Python and enables communication between C++ and Python. http://docs.cython.org/en/latest/src/userguide/wrapping_CPlusPlus.html. With Cython, everything can work together in a very clean fashion.\n"
   ]
  },
  {
   "cell_type": "markdown",
   "metadata": {},
   "source": [
    "### Procedures"
   ]
  },
  {
   "cell_type": "markdown",
   "metadata": {},
   "source": [
    "#### 1. (C++) Implement Algorithms in C++\n",
    "\n",
    "Given a matrix \n",
    "* When column index larger smaller than 1000, add 1 in place\n",
    "* When column index is between 1000 and 100000, multiply 50 in place\n",
    "* In other cases, minus 50"
   ]
  },
  {
   "cell_type": "markdown",
   "metadata": {},
   "source": [
    "```cpp\n",
    "// Example.h\n",
    "#pragma once\n",
    "#include <vector>\n",
    "\n",
    "class Example{\n",
    "\tpublic:\n",
    "\t\tExample();\n",
    "\t\t~Example();\n",
    "\t\tvoid func(std::vector< std::vector<double> > &mat);\n",
    "};\n",
    "```"
   ]
  },
  {
   "cell_type": "markdown",
   "metadata": {},
   "source": [
    "```cpp\n",
    "// Example.cpp\n",
    "#include <vector>\n",
    "#include <iostream>\n",
    "#include <chrono>\n",
    "#include \"Example.h\"\n",
    "\n",
    "Example::Example() {};\n",
    "\n",
    "Example::~Example() {};\n",
    "\n",
    "void Example::func(std::vector< std::vector<double> > &mat){\n",
    "        int dim0 = mat.size();\n",
    "        int dim1 = mat[0].size();\n",
    "        std::cout << dim0 << \", \" << dim1 << std::endl;\n",
    "\n",
    "        auto t_start = std::chrono::high_resolution_clock::now();\n",
    "\n",
    "        #pragma omp parallel for\n",
    "        for (int i = 0; i < dim0; i += 1){\n",
    "            std::cout << \"processng: \" << i << std::endl;\n",
    "            for (int j=0; j< dim1; j+=1){\n",
    "                double& val_ref = mat[i][j];\n",
    "                if (i < 1000) val_ref += 1.;\n",
    "                else if (i < 100000 && i >= 1000) val_ref *= 50.;\n",
    "                else val_ref -= 50.;\n",
    "            }\n",
    "        }\n",
    "    \n",
    "        auto t_end = std::chrono::high_resolution_clock::now();\n",
    "        double elapsed_time_ms = \n",
    "            std::chrono::duration<double, std::milli>\n",
    "                (t_end-t_start).count();\n",
    "        std::cout << \"Time Taken: \" << elapsed_time_ms << std::endl;\n",
    "};\n",
    "```"
   ]
  },
  {
   "cell_type": "markdown",
   "metadata": {},
   "source": [
    "#### 2. (C++) Create an adapter that wraps all C++ objects and functions together "
   ]
  },
  {
   "cell_type": "markdown",
   "metadata": {},
   "source": [
    "```cpp\n",
    "// PyAdapter.h\n",
    "#pragma once\n",
    "#ifndef PYADAPTER_H\n",
    "#define PYADAPTER_H\n",
    "#include \"Example.h\"\n",
    "\n",
    "namespace cpp_space {\n",
    "    class PyAdapter {\n",
    "        public:\n",
    "            // c++ object that performs the algorithm heavy tasks\n",
    "            int v;\n",
    "            Example eg;\n",
    "            PyAdapter();\n",
    "            PyAdapter(int val);\n",
    "            ~PyAdapter();\n",
    "            int get();\n",
    "            // wrapper functions that wraps the function for algorithms \n",
    "            void apply(std::vector< std::vector<double> > &mat);\n",
    "    };\n",
    "}\n",
    "\n",
    "#endif\n",
    "```"
   ]
  },
  {
   "cell_type": "markdown",
   "metadata": {},
   "source": [
    "```cpp\n",
    "// PyAdapter.cpp\n",
    "#include <vector>\n",
    "#include <iostream>\n",
    "#include <chrono>\n",
    "#include \"PyAdapter.h\"\n",
    "#include \"Example.h\"\n",
    "\n",
    "namespace cpp_space {\n",
    "\n",
    "    // Default constructor\n",
    "    PyAdapter::PyAdapter () {}\n",
    "\n",
    "    // Overloaded constructor\n",
    "    PyAdapter::PyAdapter (int val) {\n",
    "        v = val;\n",
    "    }\n",
    "\n",
    "    // Destructor\n",
    "    PyAdapter::~PyAdapter () {}\n",
    "\n",
    "    // Return the area of the rectangle\n",
    "    int PyAdapter::get () {\n",
    "        return v;\n",
    "    }\n",
    "\n",
    "    void PyAdapter::apply(std::vector< std::vector<double> > &mat){\n",
    "      eg.func(mat);\n",
    "    }\n",
    "}\n",
    "```"
   ]
  },
  {
   "cell_type": "markdown",
   "metadata": {},
   "source": [
    "#### 3. (Cython) Expose the C++ declaration to Cython\n",
    "\n",
    "A pxd file needs to be created to find the cpp and h files as well as creating a Cython wrapper for the C++ implementations. This file is essentially equvilent to the .h file in C++."
   ]
  },
  {
   "cell_type": "markdown",
   "metadata": {},
   "source": [
    "```python\n",
    "from libcpp.vector cimport vector\n",
    "\n",
    "cdef extern from \"PyAdapter.cpp\":\n",
    "    pass\n",
    "\n",
    "cdef extern from \"PyAdapter.h\" namespace \"cpp_space\":\n",
    "    cdef cppclass PyAdapter:\n",
    "        PyAdapter() except +\n",
    "        PyAdapter(int) except +\n",
    "        int val\n",
    "        int get()\n",
    "        void apply(vector[vector[double]]&)\n",
    "```"
   ]
  },
  {
   "cell_type": "markdown",
   "metadata": {},
   "source": [
    "#### 4. (Cython) Expose the Cython wrapper to Python\n",
    "\n",
    "A pyx file is created to wrap the implementation of C++ into a object that be used by Python. The language directives at the beginning is required to let Cython know C++ is going to be compiled. This file is equvilent to the .cpp file in C++."
   ]
  },
  {
   "cell_type": "markdown",
   "metadata": {},
   "source": [
    "```python\n",
    "# distutils: language = c++\n",
    "# distutils: extra_compile_args = -fopenmp -O3 \n",
    "# distutils: extra_link_args = -fopenmp \n",
    "\n",
    "from PyAdapterH cimport PyAdapter\n",
    "from libcpp.vector cimport vector\n",
    "\n",
    "cdef class CppLib:\n",
    "    cdef PyAdapter adpter\n",
    "\n",
    "    def __cinit__(self, int v):\n",
    "        self.adpter = PyAdapter(v)\n",
    "\n",
    "    def get(self):\n",
    "        return self.adpter.get()\n",
    "\n",
    "    def apply(self, vector[vector[double]]& mat):\n",
    "        self.adpter.apply(mat)\n",
    "        print('Success')\n",
    "        return mat\n",
    "```"
   ]
  },
  {
   "cell_type": "markdown",
   "metadata": {},
   "source": [
    "#### 5. (Python) Compile, import and use"
   ]
  },
  {
   "cell_type": "markdown",
   "metadata": {},
   "source": [
    "To compile everything into a shared object file that can be imported into Python. A setup file need to be created. "
   ]
  },
  {
   "cell_type": "markdown",
   "metadata": {},
   "source": [
    "```python\n",
    "from setuptools import setup, find_packages, Extension\n",
    "from Cython.Build import cythonize\n",
    "\n",
    "ext_module = Extension(\n",
    "\t\"cpplib\", # the module name exposed to python\n",
    "    [\"Example.cpp\", \"PyAdapterCpp.pyx\"], # the files required for compile\n",
    "    language=\"c++\",\n",
    "    extra_compile_args=[\"-std=c++11\", \"-fopenmp\", \"-O3\"],\n",
    "    extra_link_args=[\"-std=c++11\", \"-fopenmp\"]\n",
    ")\n",
    "\n",
    "setup(ext_modules=cythonize(ext_module))\n",
    "\n",
    "```"
   ]
  },
  {
   "cell_type": "markdown",
   "metadata": {},
   "source": [
    "Then run the command in terminal to compile everything \n",
    "```bash\n",
    "python setup.py build_ext --inplace\n",
    "```"
   ]
  },
  {
   "cell_type": "markdown",
   "metadata": {},
   "source": [
    "Using the wrapped C++ module is just the same as using any other Python modules."
   ]
  },
  {
   "cell_type": "markdown",
   "metadata": {},
   "source": [
    "```python\n",
    "from cpplib import CppLib\n",
    "lib = CppLib(1)\n",
    "\n",
    "ini_time = time.time()\n",
    "a = np.random.randint(10,100, (10,2000000))\n",
    "print('Finish Filling Matrix: ', time.time() - ini_time)\n",
    "\n",
    "ini_time = time.time()\n",
    "print(lib.apply(a))\n",
    "print('Python Time Taken: ', time.time() - ini_time)\n",
    "```"
   ]
  },
  {
   "cell_type": "markdown",
   "metadata": {},
   "source": [
    "### Overhead Issues\n",
    "\n",
    "However, after running this script, you will soon find three issues:\n",
    "* The time for computation in C++ takes less than 150ms, but the Python timer will tell it takes about 20000ms\n",
    "* The output become a list[list] rather than a np.ndarray \n",
    "* The input was not modified inplace, even the input is passed by reference"
   ]
  },
  {
   "cell_type": "markdown",
   "metadata": {},
   "source": [
    "#### So what is going on  ?\n",
    "\n",
    "This happens because not all Python variables can be passed into Cython and then C++ directly without any conversion.\n",
    "In our case, the ``` np.ndarray ``` is firstly converted into a Cython wrapped ```Python vector[vector[double]] ``` which C++ interpret and ``` std::vector< std::vecotor<double> > ```, at the very begin of the function call, and incurs a huge overhead. Then everything C++ does is to modify this newly converted object locating at a complete different place in the memory. After C++ and Cython finish all the work, this ``` vector[vector[double]] ```is converted again into ``` list[list[double]] ``` object that Python can understand.\n"
   ]
  },
  {
   "cell_type": "markdown",
   "metadata": {},
   "source": [
    "#### How to solve overhead issue ?\n",
    "\n",
    "With such a huge overhead, obviously the any advantage we gain from C++ is useless. Some data structure that both C++ and Python can understand at the same time needs to be used here. For example, the frameworks like Numpy or Tensorflow are design to complete all computation in C++ but exposing all the apis in Python are very good options here. Numpy is used in the following examples to demonstrate how to efficiently pass arguments into Cython and C++."
   ]
  },
  {
   "cell_type": "markdown",
   "metadata": {},
   "source": [
    "#### 6. (C++, Cython) Using pointer of numpy array data to pass arguments "
   ]
  },
  {
   "cell_type": "markdown",
   "metadata": {},
   "source": [
    "A numpy array can be directly passed into Cython in the .pyx file. However, C++ will not be able to use directly use the ```input_matrix```, however, we can pass the pointer of ```input_matrix``` and the dimensions of the matrix into the C++ level. So a function in C++ level will be\n",
    "\n",
    "```cpp\n",
    "void cpp_func(double* input_matrix, int dim0, int dim1){\n",
    "    some cpp implementations\n",
    "}\n",
    "```\n",
    "\n",
    "And the function in Cython will be \n",
    "```python\n",
    "def cython_func(np.ndarray[double, ndim=2, mode=\"c\"] input_matrix):\n",
    "    cpp_func(&input_matrix[0][0], # pointer of the data inside the matrix\n",
    "             input_matrix.shape[0], # first dimension of the matrix\n",
    "             input_matrix.shape[1]) # second dimension ofthe matrix\n",
    "```\n",
    "\n",
    "\n",
    "\n",
    "To access reference of element at ```(i,j)```\n",
    "```cpp\n",
    "double& val = input_matrix[i*dim1 + j];\n",
    "```\n"
   ]
  },
  {
   "cell_type": "markdown",
   "metadata": {},
   "source": [
    "#### 7. (C++, Cython, Python) The Modified Version"
   ]
  },
  {
   "cell_type": "markdown",
   "metadata": {},
   "source": [
    "```cpp\n",
    "// Example.h\n",
    "#pragma once\n",
    "#include <vector>\n",
    "\n",
    "class Example{\n",
    "\tpublic:\n",
    "\t\tExample();\n",
    "\t\t~Example();\n",
    "\t\tvoid func(double* mat, int dim0, int dim1);                            //Modified\n",
    "//---------------------------------------------------------------------------------------\n",
    "\n",
    "};\n",
    "```"
   ]
  },
  {
   "cell_type": "markdown",
   "metadata": {},
   "source": [
    "```cpp\n",
    "// Example.cpp\n",
    "#include <vector>\n",
    "#include <iostream>\n",
    "#include <chrono>\n",
    "#include \"Example.h\"\n",
    "\n",
    "Example::Example() {};\n",
    "\n",
    "Example::~Example() {};\n",
    "\n",
    "void Example::func(double* mat, int dim0, int dim1){                           //Modified\n",
    "//---------------------------------------------------------------------------------------\n",
    "        auto mat_val = [&](int i, int j)->double&{ return mat[i*dim1 + j]; };  //Modified\n",
    "//---------------------------------------------------------------------------------------\n",
    "        auto t_start = std::chrono::high_resolution_clock::now();\n",
    "        \n",
    "        #pragma omp parallel for\n",
    "        for (int i = 0; i < dim0; i += 1){\n",
    "            std::cout << \"processng: \" << i << std::endl;\n",
    "            for (int j=0; j< dim1; j+=1){\n",
    "                double& val_ref = mat_val(i,j);                                //Modified\n",
    "//---------------------------------------------------------------------------------------\n",
    "                if (i < 1000) val_ref += 1.;\n",
    "                else if (i < 100000 && i >= 1000) val_ref *= 50.;\n",
    "                else val_ref -= 50.;\n",
    "            }\n",
    "        }\n",
    "    \n",
    "        auto t_end = std::chrono::high_resolution_clock::now();\n",
    "        double elapsed_time_ms = \n",
    "            std::chrono::duration<double, std::milli>\n",
    "                (t_end-t_start).count();\n",
    "        std::cout << \"Time Taken: \" << elapsed_time_ms << std::endl;\n",
    "};\n",
    "```"
   ]
  },
  {
   "cell_type": "markdown",
   "metadata": {},
   "source": [
    "```cpp\n",
    "// PyAdapter.h\n",
    "#pragma once\n",
    "#ifndef PYADAPTER_H\n",
    "#define PYADAPTER_H\n",
    "#include \"Example.h\"\n",
    "\n",
    "namespace cpp_space {\n",
    "    class PyAdapter {\n",
    "        public:\n",
    "            // c++ object that performs the algorithm heavy tasks\n",
    "            int v;\n",
    "            Example example;\n",
    "            PyAdapter();\n",
    "            PyAdapter(int val);\n",
    "            ~PyAdapter();\n",
    "            int get();\n",
    "            // wrapper functions that wraps the function for algorithms \n",
    "            void apply(double* mat, int dim0, int dim1);                       //Modified\n",
    "//---------------------------------------------------------------------------------------\n",
    "    };\n",
    "}\n",
    "\n",
    "#endif\n",
    "```"
   ]
  },
  {
   "cell_type": "markdown",
   "metadata": {},
   "source": [
    "```cpp\n",
    "// PyAdapter.cpp\n",
    "#include <vector>\n",
    "#include <iostream>\n",
    "#include <chrono>\n",
    "#include \"PyAdapter.h\"\n",
    "#include \"Example.h\"\n",
    "\n",
    "namespace cpp_space {\n",
    "\n",
    "    // Default constructor\n",
    "    PyAdapter::PyAdapter () {}\n",
    "\n",
    "    // Overloaded constructor\n",
    "    PyAdapter::PyAdapter (int val) {\n",
    "        v = val;\n",
    "    }\n",
    "\n",
    "    // Destructor\n",
    "    PyAdapter::~PyAdapter () {}\n",
    "\n",
    "    // Return the area of the rectangle\n",
    "    int PyAdapter::get () {\n",
    "        return v;\n",
    "    }\n",
    "\n",
    "    void PyAdapter::apply(double* mat, int dim0, int dim1){                    //Modified\n",
    "//---------------------------------------------------------------------------------------\n",
    "      example.func(mat, dim0, dim1);                                           //Modified\n",
    "//---------------------------------------------------------------------------------------\n",
    "    }\n",
    "}\n",
    "```"
   ]
  },
  {
   "cell_type": "markdown",
   "metadata": {},
   "source": [
    "``` PyAdapterH.pxd ```\n",
    "```python\n",
    "from libcpp.vector cimport vector\n",
    "\n",
    "cdef extern from \"PyAdapter.cpp\":\n",
    "    pass\n",
    "\n",
    "cdef extern from \"PyAdapter.h\" namespace \"cpp_space\":\n",
    "    cdef cppclass PyAdapter:\n",
    "        PyAdapter() except +\n",
    "        PyAdapter(int) except +\n",
    "        int val\n",
    "        int get()\n",
    "        void apply(double* mat, int dim0, int dim1)                            #Modified\n",
    "#---------------------------------------------------------------------------------------\n",
    "```"
   ]
  },
  {
   "cell_type": "markdown",
   "metadata": {},
   "source": [
    "```python\n",
    "# distutils: language = c++\n",
    "# distutils: extra_compile_args = -fopenmp -O3 \n",
    "# distutils: extra_link_args = -fopenmp \n",
    "\n",
    "from PyAdapterH cimport PyAdapter\n",
    "from libcpp.vector cimport vector\n",
    "\n",
    "cdef class CppLib:\n",
    "    cdef PyAdapter adpter\n",
    "\n",
    "    def __cinit__(self, int v):\n",
    "        self.adpter = PyAdapter(v)\n",
    "\n",
    "    def get(self):\n",
    "        return self.adpter.get()\n",
    "\n",
    "    def apply(self, np.ndarray[double, ndim=2, mode=\"c\"] mat):\n",
    "        self.adpter.apply(&mat[0,0], mat.shape[0], mat.shape[1])              #Modified\n",
    "#---------------------------------------------------------------------------------------\n",
    "        print('Success')\n",
    "        return mat\n",
    "```"
   ]
  },
  {
   "cell_type": "markdown",
   "metadata": {},
   "source": [
    "```python\n",
    "from setuptools import setup, find_packages, Extension\n",
    "from Cython.Build import cythonize\n",
    "import numpy                                                                   #Modified\n",
    "#---------------------------------------------------------------------------------------\n",
    "\n",
    "ext_module = Extension(\n",
    "\t\"cpplib\", # the module name exposed to python\n",
    "    [\"Example.cpp\", \"PyAdapterCpp.pyx\"], # the files required for compile\n",
    "    language=\"c++\",\n",
    "    extra_compile_args=[\"-std=c++11\", \"-fopenmp\", \"-O3\"],\n",
    "    extra_link_args=[\"-std=c++11\", \"-fopenmp\"],\n",
    "    include_dirs=[numpy.get_include()]                                         #Modified\n",
    "#---------------------------------------------------------------------------------------\n",
    ")\n",
    "\n",
    "setup(ext_modules=cythonize(ext_module))\n",
    "```"
   ]
  },
  {
   "cell_type": "markdown",
   "metadata": {},
   "source": [
    "```python\n",
    "from cpplib import CppLib\n",
    "lib = CppLib(1)\n",
    "\n",
    "ini_time = time.time()\n",
    "a = np.random.randint(10,100, (10,2000000))\n",
    "print('Finish Filling Matrix: ', time.time() - ini_time)\n",
    "\n",
    "ini_time = time.time()\n",
    "print(lib.apply(a))\n",
    "print('Python Time Taken: ', time.time() - ini_time)\n",
    "```"
   ]
  },
  {
   "cell_type": "markdown",
   "metadata": {},
   "source": [
    "You will see the time inside C++ is about 148.1ms, and the time in python is about 148.5ms and modify everything inplace."
   ]
  },
  {
   "cell_type": "code",
   "execution_count": null,
   "metadata": {},
   "outputs": [],
   "source": []
  }
 ],
 "metadata": {
  "kernelspec": {
   "display_name": "Python 3",
   "language": "python",
   "name": "python3"
  },
  "language_info": {
   "codemirror_mode": {
    "name": "ipython",
    "version": 3
   },
   "file_extension": ".py",
   "mimetype": "text/x-python",
   "name": "python",
   "nbconvert_exporter": "python",
   "pygments_lexer": "ipython3",
   "version": "3.7.5"
  }
 },
 "nbformat": 4,
 "nbformat_minor": 2
}
